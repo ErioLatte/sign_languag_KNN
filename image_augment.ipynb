{
 "cells": [
  {
   "cell_type": "code",
   "execution_count": 2,
   "metadata": {},
   "outputs": [],
   "source": [
    "import os\n",
    "from tensorflow.keras.preprocessing.image import ImageDataGenerator\n",
    "from tensorflow.keras.preprocessing import image\n",
    "\n",
    "\n",
    "# path to dataset\n",
    "dataset_path = \"./bisindo_dataset2/Citra BISINDO/\"\n",
    "\n",
    "# use imagedatagenerator to create augment data\n",
    "datagen = ImageDataGenerator(\n",
    "    rotation_range=20,  # Randomly rotate images by 20 degrees\n",
    "    width_shift_range=0.2,  # Randomly shift images horizontally by 20% of the width\n",
    "    height_shift_range=0.2,  # Randomly shift images vertically by 20% of the height\n",
    "    shear_range=0.2,  # Randomly apply shearing transformations\n",
    "    zoom_range=0.2,  # Randomly zoom in or out on images\n",
    "    horizontal_flip=True,  # Randomly flip images horizontally\n",
    ")\n",
    "\n",
    "# Loop through the original images and generate augmented images\n",
    "for subpath in os.listdir(dataset_path):\n",
    "    # this is inside of Citra BISINDO folder, and currently on A-Z class folder but not inside\n",
    "    class_path = os.path.join(dataset_path, subpath)\n",
    "\n",
    "    # this will iterate all the image file on each class folder\n",
    "    for filename in os.listdir(class_path):\n",
    "        img_path = os.path.join(class_path, filename)\n",
    "        img = image.load_img(img_path, target_size=(224, 224))\n",
    "        x = image.img_to_array(img)\n",
    "        x = x.reshape((1,) + x.shape)  # Reshape to (1, height, width, channels)\n",
    "\n",
    "        # Generate augmented images and save them\n",
    "        i = 0\n",
    "        for batch in datagen.flow(x, batch_size=5, save_to_dir=class_path, save_prefix='augm_', save_format='jpg'):\n",
    "            i += 1\n",
    "            if i >= 35: \n",
    "                break\n"
   ]
  },
  {
   "cell_type": "code",
   "execution_count": 3,
   "metadata": {},
   "outputs": [
    {
     "name": "stdout",
     "output_type": "stream",
     "text": [
      "./bisindo_dataset2/Citra BISINDO/Z\n"
     ]
    }
   ],
   "source": [
    "print(class_path)"
   ]
  }
 ],
 "metadata": {
  "kernelspec": {
   "display_name": "Python 3",
   "language": "python",
   "name": "python3"
  },
  "language_info": {
   "codemirror_mode": {
    "name": "ipython",
    "version": 3
   },
   "file_extension": ".py",
   "mimetype": "text/x-python",
   "name": "python",
   "nbconvert_exporter": "python",
   "pygments_lexer": "ipython3",
   "version": "3.10.1"
  },
  "orig_nbformat": 4
 },
 "nbformat": 4,
 "nbformat_minor": 2
}
